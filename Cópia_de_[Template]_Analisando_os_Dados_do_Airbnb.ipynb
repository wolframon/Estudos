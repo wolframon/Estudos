{
  "nbformat": 4,
  "nbformat_minor": 0,
  "metadata": {
    "colab": {
      "name": "Cópia de [Template] Analisando os Dados do Airbnb.ipynb",
      "provenance": [],
      "collapsed_sections": []
    },
    "kernelspec": {
      "name": "python3",
      "display_name": "Python 3"
    }
  },
  "cells": [
    {
      "cell_type": "markdown",
      "metadata": {
        "id": "kLI0gJtzDGuQ",
        "colab_type": "text"
      },
      "source": [
        "<img alt=\"Colaboratory logo\" width=\"15%\" src=\"https://raw.githubusercontent.com/carlosfab/escola-data-science/master/img/novo_logo_bg_claro.png\">\n",
        "\n",
        "#### **Data Science na Prática 2.0**\n",
        "*by [sigmoidal.ai](https://sigmoidal.ai)*\n",
        "\n",
        "---\n",
        "\n",
        "# Análise dos Dados do Airbnb - *Valência-ESP*\n",
        "\n",
        "O [Airbnb](https://www.airbnb.com.br/) já é considerado como sendo a **maior empresa hoteleira da atualidade**. Ah, o detalhe é que ele **não possui nenhum hotel**!\n",
        "\n",
        "Conectando pessoas que querem viajar (e se hospedar) com anfitriões que querem alugar seus imóveis de maneira prática, o Airbnb fornece uma plataforma inovadora para tornar essa hospedagem alternativa.\n",
        "\n",
        "No final de 2018, a Startup fundada 10 anos atrás, já havia **hospedado mais de 300 milhões** de pessoas ao redor de todo o mundo, desafiando as redes hoteleiras tradicionais.\n",
        "\n",
        "Uma das iniciativas do Airbnb é disponibilizar dados do site, para algumas das principais cidades do mundo. Por meio do portal [Inside Airbnb](http://insideairbnb.com/get-the-data.html), é possível baixar uma grande quantidade de dados para desenvolver projetos e soluções de *Data Science*.\n",
        "\n",
        "<center><img alt=\"Analisando Airbnb\" width=\"10%\" src=\"https://www.area360.com.au/wp-content/uploads/2017/09/airbnb-logo.jpg\"></center>\n",
        "\n",
        "**Neste *notebook*, iremos analisar os dados referentes à cidade de Valência/ESP, e ver quais insights podem ser extraídos a partir de dados brutos.**"
      ]
    },
    {
      "cell_type": "markdown",
      "metadata": {
        "id": "0zxQHhIUDF_2",
        "colab_type": "text"
      },
      "source": [
        "## Obtenção dos Dados\n",
        "\n",
        "Todos os dados usados aqui foram obtidos a partir do site [Inside Airbnb](http://insideairbnb.com/get-the-data.html).\n",
        "\n",
        "Para esta análise exploratória inicial, será baixado apenas o seguinte arquivo:\n",
        "\n",
        "* `listings.csv` - *Summary information and metrics for listings in Valencia (good for visualisations).*"
      ]
    },
    {
      "cell_type": "code",
      "metadata": {
        "id": "Vhp2wMPgJ6zX",
        "colab_type": "code",
        "colab": {
          "base_uri": "https://localhost:8080/",
          "height": 74
        },
        "outputId": "3138c24a-00ec-4958-aaa0-f2a305ee7872"
      },
      "source": [
        "# importar os pacotes necessarios\n",
        "import pandas as pd\n",
        "import matplotlib.pyplot as plt\n",
        "import seaborn as sns\n",
        "\n",
        "%matplotlib inline\n"
      ],
      "execution_count": 3,
      "outputs": [
        {
          "output_type": "stream",
          "text": [
            "/usr/local/lib/python3.6/dist-packages/statsmodels/tools/_testing.py:19: FutureWarning: pandas.util.testing is deprecated. Use the functions in the public API at pandas.testing instead.\n",
            "  import pandas.util.testing as tm\n"
          ],
          "name": "stderr"
        }
      ]
    },
    {
      "cell_type": "code",
      "metadata": {
        "id": "tUmoAT8DLQ5T",
        "colab_type": "code",
        "colab": {}
      },
      "source": [
        "# importar o arquivo listings.csv para um DataFrame\n",
        "df = pd.read_csv(\"http://data.insideairbnb.com/spain/vc/valencia/2020-08-30/visualisations/listings.csv\")\n"
      ],
      "execution_count": 4,
      "outputs": []
    },
    {
      "cell_type": "code",
      "metadata": {
        "id": "tESZcpDeVle7",
        "colab_type": "code",
        "colab": {
          "base_uri": "https://localhost:8080/",
          "height": 739
        },
        "outputId": "1c874fb8-a651-4fb8-edaa-b9ca16570a62"
      },
      "source": [
        "df"
      ],
      "execution_count": null,
      "outputs": [
        {
          "output_type": "execute_result",
          "data": {
            "text/html": [
              "<div>\n",
              "<style scoped>\n",
              "    .dataframe tbody tr th:only-of-type {\n",
              "        vertical-align: middle;\n",
              "    }\n",
              "\n",
              "    .dataframe tbody tr th {\n",
              "        vertical-align: top;\n",
              "    }\n",
              "\n",
              "    .dataframe thead th {\n",
              "        text-align: right;\n",
              "    }\n",
              "</style>\n",
              "<table border=\"1\" class=\"dataframe\">\n",
              "  <thead>\n",
              "    <tr style=\"text-align: right;\">\n",
              "      <th></th>\n",
              "      <th>id</th>\n",
              "      <th>name</th>\n",
              "      <th>host_id</th>\n",
              "      <th>host_name</th>\n",
              "      <th>neighbourhood_group</th>\n",
              "      <th>neighbourhood</th>\n",
              "      <th>latitude</th>\n",
              "      <th>longitude</th>\n",
              "      <th>room_type</th>\n",
              "      <th>price</th>\n",
              "      <th>minimum_nights</th>\n",
              "      <th>number_of_reviews</th>\n",
              "      <th>last_review</th>\n",
              "      <th>reviews_per_month</th>\n",
              "      <th>calculated_host_listings_count</th>\n",
              "      <th>availability_365</th>\n",
              "    </tr>\n",
              "  </thead>\n",
              "  <tbody>\n",
              "    <tr>\n",
              "      <th>0</th>\n",
              "      <td>4620</td>\n",
              "      <td>VALENCIA HISTORIC HOUSE  50M BEACH</td>\n",
              "      <td>7093832</td>\n",
              "      <td>Francisca</td>\n",
              "      <td>POBLATS MARITIMS</td>\n",
              "      <td>LA MALVA-ROSA</td>\n",
              "      <td>39.475530</td>\n",
              "      <td>-0.32461</td>\n",
              "      <td>Entire home/apt</td>\n",
              "      <td>121</td>\n",
              "      <td>2</td>\n",
              "      <td>100</td>\n",
              "      <td>2020-08-09</td>\n",
              "      <td>0.98</td>\n",
              "      <td>1</td>\n",
              "      <td>163</td>\n",
              "    </tr>\n",
              "    <tr>\n",
              "      <th>1</th>\n",
              "      <td>48154</td>\n",
              "      <td>beautiful apartment wifi</td>\n",
              "      <td>219476</td>\n",
              "      <td>Toni</td>\n",
              "      <td>LA SAIDIA</td>\n",
              "      <td>MORVEDRE</td>\n",
              "      <td>39.485750</td>\n",
              "      <td>-0.37428</td>\n",
              "      <td>Entire home/apt</td>\n",
              "      <td>51</td>\n",
              "      <td>3</td>\n",
              "      <td>99</td>\n",
              "      <td>2020-07-31</td>\n",
              "      <td>0.82</td>\n",
              "      <td>2</td>\n",
              "      <td>365</td>\n",
              "    </tr>\n",
              "    <tr>\n",
              "      <th>2</th>\n",
              "      <td>55692</td>\n",
              "      <td>Delight in city center</td>\n",
              "      <td>120649</td>\n",
              "      <td>Pilar</td>\n",
              "      <td>CIUTAT VELLA</td>\n",
              "      <td>LA SEU</td>\n",
              "      <td>39.476810</td>\n",
              "      <td>-0.37523</td>\n",
              "      <td>Entire home/apt</td>\n",
              "      <td>100</td>\n",
              "      <td>1</td>\n",
              "      <td>1</td>\n",
              "      <td>2014-11-11</td>\n",
              "      <td>0.01</td>\n",
              "      <td>1</td>\n",
              "      <td>271</td>\n",
              "    </tr>\n",
              "    <tr>\n",
              "      <th>3</th>\n",
              "      <td>95393</td>\n",
              "      <td>Modern and bright Duplex 3 Bedrooms Center Wi-Fi</td>\n",
              "      <td>508042</td>\n",
              "      <td>Carmen</td>\n",
              "      <td>CIUTAT VELLA</td>\n",
              "      <td>EL CARME</td>\n",
              "      <td>39.477870</td>\n",
              "      <td>-0.38142</td>\n",
              "      <td>Entire home/apt</td>\n",
              "      <td>137</td>\n",
              "      <td>1</td>\n",
              "      <td>98</td>\n",
              "      <td>2019-08-10</td>\n",
              "      <td>0.87</td>\n",
              "      <td>6</td>\n",
              "      <td>264</td>\n",
              "    </tr>\n",
              "    <tr>\n",
              "      <th>4</th>\n",
              "      <td>100347</td>\n",
              "      <td>3BDR full Home at Sorolla station and Metro Jesús</td>\n",
              "      <td>1451371</td>\n",
              "      <td>Santiago</td>\n",
              "      <td>EXTRAMURS</td>\n",
              "      <td>ARRANCAPINS</td>\n",
              "      <td>39.459650</td>\n",
              "      <td>-0.38453</td>\n",
              "      <td>Entire home/apt</td>\n",
              "      <td>104</td>\n",
              "      <td>5</td>\n",
              "      <td>130</td>\n",
              "      <td>2020-02-15</td>\n",
              "      <td>4.39</td>\n",
              "      <td>1</td>\n",
              "      <td>0</td>\n",
              "    </tr>\n",
              "    <tr>\n",
              "      <th>...</th>\n",
              "      <td>...</td>\n",
              "      <td>...</td>\n",
              "      <td>...</td>\n",
              "      <td>...</td>\n",
              "      <td>...</td>\n",
              "      <td>...</td>\n",
              "      <td>...</td>\n",
              "      <td>...</td>\n",
              "      <td>...</td>\n",
              "      <td>...</td>\n",
              "      <td>...</td>\n",
              "      <td>...</td>\n",
              "      <td>...</td>\n",
              "      <td>...</td>\n",
              "      <td>...</td>\n",
              "      <td>...</td>\n",
              "    </tr>\n",
              "    <tr>\n",
              "      <th>7501</th>\n",
              "      <td>45177630</td>\n",
              "      <td>Space 50 SOBRAS</td>\n",
              "      <td>364818675</td>\n",
              "      <td>Gabriel</td>\n",
              "      <td>EXTRAMURS</td>\n",
              "      <td>LA PETXINA</td>\n",
              "      <td>39.474250</td>\n",
              "      <td>-0.38874</td>\n",
              "      <td>Private room</td>\n",
              "      <td>120</td>\n",
              "      <td>1</td>\n",
              "      <td>0</td>\n",
              "      <td>NaN</td>\n",
              "      <td>NaN</td>\n",
              "      <td>3</td>\n",
              "      <td>365</td>\n",
              "    </tr>\n",
              "    <tr>\n",
              "      <th>7502</th>\n",
              "      <td>45185030</td>\n",
              "      <td>Double bedroom/Kitchen/2 Bicycles</td>\n",
              "      <td>339650067</td>\n",
              "      <td>Alex</td>\n",
              "      <td>RASCANYA</td>\n",
              "      <td>ELS ORRIOLS</td>\n",
              "      <td>39.494790</td>\n",
              "      <td>-0.36980</td>\n",
              "      <td>Private room</td>\n",
              "      <td>15</td>\n",
              "      <td>1</td>\n",
              "      <td>0</td>\n",
              "      <td>NaN</td>\n",
              "      <td>NaN</td>\n",
              "      <td>8</td>\n",
              "      <td>63</td>\n",
              "    </tr>\n",
              "    <tr>\n",
              "      <th>7503</th>\n",
              "      <td>45186180</td>\n",
              "      <td>Habitación Valencia centro</td>\n",
              "      <td>30390619</td>\n",
              "      <td>Michelle</td>\n",
              "      <td>LA SAIDIA</td>\n",
              "      <td>MORVEDRE</td>\n",
              "      <td>39.487010</td>\n",
              "      <td>-0.37684</td>\n",
              "      <td>Private room</td>\n",
              "      <td>30</td>\n",
              "      <td>1</td>\n",
              "      <td>0</td>\n",
              "      <td>NaN</td>\n",
              "      <td>NaN</td>\n",
              "      <td>1</td>\n",
              "      <td>362</td>\n",
              "    </tr>\n",
              "    <tr>\n",
              "      <th>7504</th>\n",
              "      <td>45190214</td>\n",
              "      <td>Relax</td>\n",
              "      <td>340244284</td>\n",
              "      <td>Maritza</td>\n",
              "      <td>RASCANYA</td>\n",
              "      <td>TORREFIEL</td>\n",
              "      <td>39.495370</td>\n",
              "      <td>-0.37456</td>\n",
              "      <td>Private room</td>\n",
              "      <td>25</td>\n",
              "      <td>1</td>\n",
              "      <td>0</td>\n",
              "      <td>NaN</td>\n",
              "      <td>NaN</td>\n",
              "      <td>1</td>\n",
              "      <td>364</td>\n",
              "    </tr>\n",
              "    <tr>\n",
              "      <th>7505</th>\n",
              "      <td>45195746</td>\n",
              "      <td>Valencia renovated flat five minutes from beach</td>\n",
              "      <td>34513910</td>\n",
              "      <td>Paul</td>\n",
              "      <td>POBLATS MARITIMS</td>\n",
              "      <td>CABANYAL-CANYAMELAR</td>\n",
              "      <td>39.472888</td>\n",
              "      <td>-0.32946</td>\n",
              "      <td>Entire home/apt</td>\n",
              "      <td>60</td>\n",
              "      <td>2</td>\n",
              "      <td>0</td>\n",
              "      <td>NaN</td>\n",
              "      <td>NaN</td>\n",
              "      <td>1</td>\n",
              "      <td>141</td>\n",
              "    </tr>\n",
              "  </tbody>\n",
              "</table>\n",
              "<p>7506 rows × 16 columns</p>\n",
              "</div>"
            ],
            "text/plain": [
              "            id  ... availability_365\n",
              "0         4620  ...              163\n",
              "1        48154  ...              365\n",
              "2        55692  ...              271\n",
              "3        95393  ...              264\n",
              "4       100347  ...                0\n",
              "...        ...  ...              ...\n",
              "7501  45177630  ...              365\n",
              "7502  45185030  ...               63\n",
              "7503  45186180  ...              362\n",
              "7504  45190214  ...              364\n",
              "7505  45195746  ...              141\n",
              "\n",
              "[7506 rows x 16 columns]"
            ]
          },
          "metadata": {
            "tags": []
          },
          "execution_count": 3
        }
      ]
    },
    {
      "cell_type": "markdown",
      "metadata": {
        "id": "qb5By2nIMS6m",
        "colab_type": "text"
      },
      "source": [
        "## Análise dos Dados\n",
        "\n",
        "O objetivo deste tópico é identificar as características avaliadas, dos imóveis disponíveis no [Aribnb](\"https://www.airbnb.com.br)."
      ]
    },
    {
      "cell_type": "markdown",
      "metadata": {
        "id": "RYgvuebKNg8-",
        "colab_type": "text"
      },
      "source": [
        "**Dicionário das variáveis**\n",
        "\n",
        "* `id` - número de identificação do imóvel\n",
        "* `name` - nome do anúncio\n",
        "* `host_id` - número de identificação do anfitrião da propriedade\n",
        "* `neighbourhood_group` - nome da região em que a propriedade se econtra\n",
        "* `neighbourhood` - nome do bairro onde a propriedade se encontra\n",
        "* `latitude` - coordenada da latitude da propriedade\n",
        "* `longitude` - coordenada da longitude da propriedade\n",
        "* `room_type` - informa o tipo da acomodação\n",
        "* `price` - preço do aluguel da acomodação\n",
        "* `minimum_nights` - número mínimo de noites para a propriedade\n",
        "* `number_of_reviews` - número de avaliações da acomodação\n",
        "* `last_review` - data da última avaliação\n",
        "* `reviews_per_month` - número de reviews por mês\n",
        "* `calculated_host_listings_count` - quantidade de acomodações de um mesmo anfitrião\n",
        "* `availability_365` - número de dias, dentro de 365 dias, em que a propriedade esteve disponível \n",
        "\n",
        "Antes de iniciar qualquer análise, vamos verificar a cara do nosso *dataset*, analisando as 5 primeiras entradas."
      ]
    },
    {
      "cell_type": "code",
      "metadata": {
        "id": "2iS_dae7YQtO",
        "colab_type": "code",
        "colab": {
          "base_uri": "https://localhost:8080/",
          "height": 521
        },
        "outputId": "27792d0e-1003-4607-827a-08bbe8a94db8"
      },
      "source": [
        "# mostrar as 5 primeiras entradas\n",
        "df.head()"
      ],
      "execution_count": 5,
      "outputs": [
        {
          "output_type": "execute_result",
          "data": {
            "text/html": [
              "<div>\n",
              "<style scoped>\n",
              "    .dataframe tbody tr th:only-of-type {\n",
              "        vertical-align: middle;\n",
              "    }\n",
              "\n",
              "    .dataframe tbody tr th {\n",
              "        vertical-align: top;\n",
              "    }\n",
              "\n",
              "    .dataframe thead th {\n",
              "        text-align: right;\n",
              "    }\n",
              "</style>\n",
              "<table border=\"1\" class=\"dataframe\">\n",
              "  <thead>\n",
              "    <tr style=\"text-align: right;\">\n",
              "      <th></th>\n",
              "      <th>id</th>\n",
              "      <th>name</th>\n",
              "      <th>host_id</th>\n",
              "      <th>host_name</th>\n",
              "      <th>neighbourhood_group</th>\n",
              "      <th>neighbourhood</th>\n",
              "      <th>latitude</th>\n",
              "      <th>longitude</th>\n",
              "      <th>room_type</th>\n",
              "      <th>price</th>\n",
              "      <th>minimum_nights</th>\n",
              "      <th>number_of_reviews</th>\n",
              "      <th>last_review</th>\n",
              "      <th>reviews_per_month</th>\n",
              "      <th>calculated_host_listings_count</th>\n",
              "      <th>availability_365</th>\n",
              "    </tr>\n",
              "  </thead>\n",
              "  <tbody>\n",
              "    <tr>\n",
              "      <th>0</th>\n",
              "      <td>4620</td>\n",
              "      <td>VALENCIA HISTORIC HOUSE  50M BEACH</td>\n",
              "      <td>7093832</td>\n",
              "      <td>Francisca</td>\n",
              "      <td>POBLATS MARITIMS</td>\n",
              "      <td>LA MALVA-ROSA</td>\n",
              "      <td>39.47553</td>\n",
              "      <td>-0.32461</td>\n",
              "      <td>Entire home/apt</td>\n",
              "      <td>121</td>\n",
              "      <td>2</td>\n",
              "      <td>100</td>\n",
              "      <td>2020-08-09</td>\n",
              "      <td>0.98</td>\n",
              "      <td>1</td>\n",
              "      <td>163</td>\n",
              "    </tr>\n",
              "    <tr>\n",
              "      <th>1</th>\n",
              "      <td>48154</td>\n",
              "      <td>beautiful apartment wifi</td>\n",
              "      <td>219476</td>\n",
              "      <td>Toni</td>\n",
              "      <td>LA SAIDIA</td>\n",
              "      <td>MORVEDRE</td>\n",
              "      <td>39.48575</td>\n",
              "      <td>-0.37428</td>\n",
              "      <td>Entire home/apt</td>\n",
              "      <td>51</td>\n",
              "      <td>3</td>\n",
              "      <td>99</td>\n",
              "      <td>2020-07-31</td>\n",
              "      <td>0.82</td>\n",
              "      <td>2</td>\n",
              "      <td>365</td>\n",
              "    </tr>\n",
              "    <tr>\n",
              "      <th>2</th>\n",
              "      <td>55692</td>\n",
              "      <td>Delight in city center</td>\n",
              "      <td>120649</td>\n",
              "      <td>Pilar</td>\n",
              "      <td>CIUTAT VELLA</td>\n",
              "      <td>LA SEU</td>\n",
              "      <td>39.47681</td>\n",
              "      <td>-0.37523</td>\n",
              "      <td>Entire home/apt</td>\n",
              "      <td>100</td>\n",
              "      <td>1</td>\n",
              "      <td>1</td>\n",
              "      <td>2014-11-11</td>\n",
              "      <td>0.01</td>\n",
              "      <td>1</td>\n",
              "      <td>271</td>\n",
              "    </tr>\n",
              "    <tr>\n",
              "      <th>3</th>\n",
              "      <td>95393</td>\n",
              "      <td>Modern and bright Duplex 3 Bedrooms Center Wi-Fi</td>\n",
              "      <td>508042</td>\n",
              "      <td>Carmen</td>\n",
              "      <td>CIUTAT VELLA</td>\n",
              "      <td>EL CARME</td>\n",
              "      <td>39.47787</td>\n",
              "      <td>-0.38142</td>\n",
              "      <td>Entire home/apt</td>\n",
              "      <td>137</td>\n",
              "      <td>1</td>\n",
              "      <td>98</td>\n",
              "      <td>2019-08-10</td>\n",
              "      <td>0.87</td>\n",
              "      <td>6</td>\n",
              "      <td>264</td>\n",
              "    </tr>\n",
              "    <tr>\n",
              "      <th>4</th>\n",
              "      <td>100347</td>\n",
              "      <td>3BDR full Home at Sorolla station and Metro Jesús</td>\n",
              "      <td>1451371</td>\n",
              "      <td>Santiago</td>\n",
              "      <td>EXTRAMURS</td>\n",
              "      <td>ARRANCAPINS</td>\n",
              "      <td>39.45965</td>\n",
              "      <td>-0.38453</td>\n",
              "      <td>Entire home/apt</td>\n",
              "      <td>104</td>\n",
              "      <td>5</td>\n",
              "      <td>130</td>\n",
              "      <td>2020-02-15</td>\n",
              "      <td>4.39</td>\n",
              "      <td>1</td>\n",
              "      <td>0</td>\n",
              "    </tr>\n",
              "  </tbody>\n",
              "</table>\n",
              "</div>"
            ],
            "text/plain": [
              "       id  ... availability_365\n",
              "0    4620  ...              163\n",
              "1   48154  ...              365\n",
              "2   55692  ...              271\n",
              "3   95393  ...              264\n",
              "4  100347  ...                0\n",
              "\n",
              "[5 rows x 16 columns]"
            ]
          },
          "metadata": {
            "tags": []
          },
          "execution_count": 5
        }
      ]
    },
    {
      "cell_type": "markdown",
      "metadata": {
        "id": "6-B_qtEaYEd-",
        "colab_type": "text"
      },
      "source": [
        "### **Q1. Quantos atributos (variáveis) e quantas entradas o nosso conjunto de dados possui? Quais os tipos das variáveis?**\n",
        "\n",
        "Prosseguimos a análise identificando a quantidade de atributos disponíveis para avaliação e quantas entradas de imóveis contém no nosso conjunto de dados.\n",
        "\n",
        "Esse *dataset* que é apresentado neste projeto é uma versão \"resumida\" de dados disponibilizados pelo **AIRBNB**."
      ]
    },
    {
      "cell_type": "code",
      "metadata": {
        "id": "TFRK0tniLV-G",
        "colab_type": "code",
        "colab": {
          "base_uri": "https://localhost:8080/",
          "height": 384
        },
        "outputId": "2400be9f-7d5d-4cce-ee22-9cb4fce8e958"
      },
      "source": [
        "# identificar o volume de dados do DataFrame\n",
        "print(\"Entradas:\\t {}\".format(df.shape[0]))\n",
        "print(\"Variáveis:\\t {}\\n\".format(df.shape[1]))\n",
        "\n",
        "# verificar as 5 primeiras entradas do dataset\n",
        "display(df.dtypes)\n"
      ],
      "execution_count": 6,
      "outputs": [
        {
          "output_type": "stream",
          "text": [
            "Entradas:\t 7506\n",
            "Variáveis:\t 16\n",
            "\n"
          ],
          "name": "stdout"
        },
        {
          "output_type": "display_data",
          "data": {
            "text/plain": [
              "id                                  int64\n",
              "name                               object\n",
              "host_id                             int64\n",
              "host_name                          object\n",
              "neighbourhood_group                object\n",
              "neighbourhood                      object\n",
              "latitude                          float64\n",
              "longitude                         float64\n",
              "room_type                          object\n",
              "price                               int64\n",
              "minimum_nights                      int64\n",
              "number_of_reviews                   int64\n",
              "last_review                        object\n",
              "reviews_per_month                 float64\n",
              "calculated_host_listings_count      int64\n",
              "availability_365                    int64\n",
              "dtype: object"
            ]
          },
          "metadata": {
            "tags": []
          }
        }
      ]
    },
    {
      "cell_type": "markdown",
      "metadata": {
        "id": "yz1urSUGW9iE",
        "colab_type": "text"
      },
      "source": [
        "### **Q2. Qual a porcentagem de valores ausentes no *dataset*?**\n",
        "\n",
        "A quantidade e a porcentagem de valores ausentes são informações importantes de um *dataset* pois pode implicar em distorções relevantes e prejudicar a qualidade dos dados.\n",
        "\n",
        "* As únicas colunas que contém dados nulos são as de avaliação. Essa informações pode ser interpretada tanto pelo fato de realmente não haver avaliação para uma acomodação já utilizada ou pela propriedade ser nova no site.\n",
        "\n",
        "* Manterei esses dados por não se tratar de uma informação relevante para essa análise, assim como ela representa pouco menos de 20% da siatuação das acomodações."
      ]
    },
    {
      "cell_type": "code",
      "metadata": {
        "id": "plk2FjbCXOqP",
        "colab_type": "code",
        "colab": {
          "base_uri": "https://localhost:8080/",
          "height": 329
        },
        "outputId": "a38f1b2f-03fb-47ad-c453-8ef2524bd1c7"
      },
      "source": [
        "# ordenar em ordem decrescente as variáveis por seus valores ausentes\n",
        "(df.isnull().sum() / df.shape[0]).sort_values(ascending=False)"
      ],
      "execution_count": 7,
      "outputs": [
        {
          "output_type": "execute_result",
          "data": {
            "text/plain": [
              "reviews_per_month                 0.192246\n",
              "last_review                       0.192246\n",
              "availability_365                  0.000000\n",
              "calculated_host_listings_count    0.000000\n",
              "number_of_reviews                 0.000000\n",
              "minimum_nights                    0.000000\n",
              "price                             0.000000\n",
              "room_type                         0.000000\n",
              "longitude                         0.000000\n",
              "latitude                          0.000000\n",
              "neighbourhood                     0.000000\n",
              "neighbourhood_group               0.000000\n",
              "host_name                         0.000000\n",
              "host_id                           0.000000\n",
              "name                              0.000000\n",
              "id                                0.000000\n",
              "dtype: float64"
            ]
          },
          "metadata": {
            "tags": []
          },
          "execution_count": 7
        }
      ]
    },
    {
      "cell_type": "markdown",
      "metadata": {
        "id": "iHXvvHIxaoNc",
        "colab_type": "text"
      },
      "source": [
        "### **Q3. Qual o tipo de distribuição das variáveis?** "
      ]
    },
    {
      "cell_type": "code",
      "metadata": {
        "id": "q2wWSfeRbmBo",
        "colab_type": "code",
        "colab": {
          "base_uri": "https://localhost:8080/",
          "height": 607
        },
        "outputId": "315c5bdf-4609-4ed5-ebe3-e875c1978083"
      },
      "source": [
        "# plotar o histograma das variáveis numéricas\n",
        "df.hist(bins=15, figsize=(15,10));"
      ],
      "execution_count": 8,
      "outputs": [
        {
          "output_type": "display_data",
          "data": {
            "image/png": "[encoded data removed]",
            "text/plain": [
              "<Figure size 1080x720 with 12 Axes>"
            ]
          },
          "metadata": {
            "tags": [],
            "needs_background": "light"
          }
        }
      ]
    },
    {
      "cell_type": "markdown",
      "metadata": {
        "id": "7x4aw1j5wNmn",
        "colab_type": "text"
      },
      "source": [
        "### **Q4. Qual a média dos preços de aluguel?**\n",
        "\n",
        "Pela visualização dos dados de preço do aluguel na cidade de **Valência-ESP**, é possível observar que há *outliers*. "
      ]
    },
    {
      "cell_type": "code",
      "metadata": {
        "id": "ff-8gUahLk-C",
        "colab_type": "code",
        "colab": {
          "base_uri": "https://localhost:8080/",
          "height": 300
        },
        "outputId": "9dce0413-27da-4a06-b229-6e6370e0d26e"
      },
      "source": [
        "# ver a média da coluna `price``\n",
        "df[['price', 'minimum_nights']].describe()"
      ],
      "execution_count": 11,
      "outputs": [
        {
          "output_type": "execute_result",
          "data": {
            "text/html": [
              "<div>\n",
              "<style scoped>\n",
              "    .dataframe tbody tr th:only-of-type {\n",
              "        vertical-align: middle;\n",
              "    }\n",
              "\n",
              "    .dataframe tbody tr th {\n",
              "        vertical-align: top;\n",
              "    }\n",
              "\n",
              "    .dataframe thead th {\n",
              "        text-align: right;\n",
              "    }\n",
              "</style>\n",
              "<table border=\"1\" class=\"dataframe\">\n",
              "  <thead>\n",
              "    <tr style=\"text-align: right;\">\n",
              "      <th></th>\n",
              "      <th>price</th>\n",
              "      <th>minimum_nights</th>\n",
              "    </tr>\n",
              "  </thead>\n",
              "  <tbody>\n",
              "    <tr>\n",
              "      <th>count</th>\n",
              "      <td>7506.000000</td>\n",
              "      <td>7506.00000</td>\n",
              "    </tr>\n",
              "    <tr>\n",
              "      <th>mean</th>\n",
              "      <td>71.974021</td>\n",
              "      <td>4.61271</td>\n",
              "    </tr>\n",
              "    <tr>\n",
              "      <th>std</th>\n",
              "      <td>138.319853</td>\n",
              "      <td>17.13282</td>\n",
              "    </tr>\n",
              "    <tr>\n",
              "      <th>min</th>\n",
              "      <td>8.000000</td>\n",
              "      <td>1.00000</td>\n",
              "    </tr>\n",
              "    <tr>\n",
              "      <th>25%</th>\n",
              "      <td>35.000000</td>\n",
              "      <td>1.00000</td>\n",
              "    </tr>\n",
              "    <tr>\n",
              "      <th>50%</th>\n",
              "      <td>59.000000</td>\n",
              "      <td>2.00000</td>\n",
              "    </tr>\n",
              "    <tr>\n",
              "      <th>75%</th>\n",
              "      <td>85.000000</td>\n",
              "      <td>3.00000</td>\n",
              "    </tr>\n",
              "    <tr>\n",
              "      <th>max</th>\n",
              "      <td>8000.000000</td>\n",
              "      <td>400.00000</td>\n",
              "    </tr>\n",
              "  </tbody>\n",
              "</table>\n",
              "</div>"
            ],
            "text/plain": [
              "             price  minimum_nights\n",
              "count  7506.000000      7506.00000\n",
              "mean     71.974021         4.61271\n",
              "std     138.319853        17.13282\n",
              "min       8.000000         1.00000\n",
              "25%      35.000000         1.00000\n",
              "50%      59.000000         2.00000\n",
              "75%      85.000000         3.00000\n",
              "max    8000.000000       400.00000"
            ]
          },
          "metadata": {
            "tags": []
          },
          "execution_count": 11
        }
      ]
    },
    {
      "cell_type": "markdown",
      "metadata": {
        "id": "hl2KXn89LR7K",
        "colab_type": "text"
      },
      "source": [
        "* Olhando o resumo estatístico acima, podemos verificar que 75% dos valores das diárias ficam abaixo de 85.00, mas há um valor máximo de 8,000.00. Portanto há uma distorção considerável na variável `preço`.\n",
        "\n",
        "* Também verificamos que a variável `minimum_nights` está comprometida quando verificamos uma dado de necessidade de reservar por 400 noites, no mímino, determinada propriedade.\n",
        "\n"
      ]
    },
    {
      "cell_type": "markdown",
      "metadata": {
        "id": "Gv2th062Mjt8",
        "colab_type": "text"
      },
      "source": [
        "Boxplot para minimum_nights"
      ]
    },
    {
      "cell_type": "code",
      "metadata": {
        "id": "C-V-8A5GMgtk",
        "colab_type": "code",
        "colab": {
          "base_uri": "https://localhost:8080/",
          "height": 266
        },
        "outputId": "6bea5c4f-a269-47b0-cc32-6b7c2fb44d30"
      },
      "source": [
        "# minimum_nights\n",
        "df.minimum_nights.plot(kind='box', vert=False, figsize=(15, 3))\n",
        "plt.show()\n",
        "\n",
        "# ver quantidades de valores acima de 30 dias para minimum_nights\n",
        "print(\"minimum_nights: valores acima de 30:\")\n",
        "print(\"{} entradas\".format(len(df[df.minimum_nights > 30])))\n",
        "print(\"{:.4f}%\".format((len(df[df.minimum_nights > 30]) / df.shape[0])*100))"
      ],
      "execution_count": 16,
      "outputs": [
        {
          "output_type": "display_data",
          "data": {
            "image/png": "[encoded data removed]",
            "text/plain": [
              "<Figure size 1080x216 with 1 Axes>"
            ]
          },
          "metadata": {
            "tags": [],
            "needs_background": "light"
          }
        },
        {
          "output_type": "stream",
          "text": [
            "minimum_nights: valores acima de 30:\n",
            "112 entradas\n",
            "1.4921%\n"
          ],
          "name": "stdout"
        }
      ]
    },
    {
      "cell_type": "markdown",
      "metadata": {
        "id": "S2TKH-teOWgC",
        "colab_type": "text"
      },
      "source": [
        "Boxplot para price"
      ]
    },
    {
      "cell_type": "code",
      "metadata": {
        "id": "xwr3ebhaOZWK",
        "colab_type": "code",
        "colab": {
          "base_uri": "https://localhost:8080/",
          "height": 284
        },
        "outputId": "0a6ca5dd-9d97-4aeb-8324-64692a6eff17"
      },
      "source": [
        "# price\n",
        "df.price.plot(kind='box', vert=False, figsize=(15,3),)\n",
        "plt.show()\n",
        "\n",
        "# ver quantidade de valores acima de 170 para preço\n",
        "print(\"\\nprice: valores acima de 170\")\n",
        "print(\"{} entradas\".format(len(df[df.price > 170])))\n",
        "print(\"{:.4f}%\".format((len(df[df.price > 170]) / df.shape[0])*100))"
      ],
      "execution_count": 17,
      "outputs": [
        {
          "output_type": "display_data",
          "data": {
            "image/png": "[encoded data removed]",
            "text/plain": [
              "<Figure size 1080x216 with 1 Axes>"
            ]
          },
          "metadata": {
            "tags": [],
            "needs_background": "light"
          }
        },
        {
          "output_type": "stream",
          "text": [
            "\n",
            "price: valores acima de 170\n",
            "275 entradas\n",
            "3.6637%\n"
          ],
          "name": "stdout"
        }
      ]
    },
    {
      "cell_type": "markdown",
      "metadata": {
        "id": "elz0IewkPQz5",
        "colab_type": "text"
      },
      "source": [
        "Histograma sem *outliers*\n",
        "\n",
        "Agora que identificamos os *outliers* nas variáveis pesquisadas, vamos eliminá-las para que as informações mostradas reflitam melhor a realidade do local pesquisado."
      ]
    },
    {
      "cell_type": "code",
      "metadata": {
        "id": "k4Jlx-baPjWX",
        "colab_type": "code",
        "colab": {
          "base_uri": "https://localhost:8080/",
          "height": 607
        },
        "outputId": "586e72b6-65d5-476f-edbc-a2b1c243f067"
      },
      "source": [
        "# remover os *outliers* em um novo Dataframe\n",
        "df_clean = df.copy()\n",
        "df_clean.drop(df_clean[df_clean.price > 170].index, axis=0, inplace=True)\n",
        "df_clean.drop(df_clean[df_clean.minimum_nights > 30].index, axis=0, inplace=True)\n",
        "\n",
        "# plotar o histograma para as variáveis numéricas\n",
        "df_clean.hist(bins=15, figsize=(15,10));"
      ],
      "execution_count": 18,
      "outputs": [
        {
          "output_type": "display_data",
          "data": {
            "image/png": "[encoded data removed]",
            "text/plain": [
              "<Figure size 1080x720 with 12 Axes>"
            ]
          },
          "metadata": {
            "tags": [],
            "needs_background": "light"
          }
        }
      ]
    },
    {
      "cell_type": "markdown",
      "metadata": {
        "id": "IXn2oIo5qx-w",
        "colab_type": "text"
      },
      "source": [
        "### **Q4. Qual a correlação existente entre as variáveis**\n",
        "\n",
        "Correlação significa que esxiste uma relação entre duas coisas. No nosso contexto, estamos buscando relação ou semelhança entre duas variáveis.\n",
        "\n",
        "Essa relação pode ser medida, e é função de correlação estabelecer qual a intensidade dela. Para identificar as correlações existentes entre as variáveis de interesse, vou:\n",
        "\n",
        "* Criar uma matriz de correlçao;\n",
        "* Gerar um *heatmap* a partir dessa matriz, usando a biblioteca `seaborn`."
      ]
    },
    {
      "cell_type": "code",
      "metadata": {
        "id": "x2ayzBajqxyd",
        "colab_type": "code",
        "colab": {
          "base_uri": "https://localhost:8080/",
          "height": 238
        },
        "outputId": "0406e68b-f93e-4b1d-ee58-5aa7faa2b2c6"
      },
      "source": [
        "# criar uma matriz de correlação\n",
        "corr = df_clean[['price', 'minimum_nights', 'number_of_reviews', 'reviews_per_month', 'calculated_host_listings_count', 'availability_365']].corr()\n",
        "\n",
        "\n",
        "# mostrar a matriz de correlação\n",
        "display(corr)\n"
      ],
      "execution_count": 19,
      "outputs": [
        {
          "output_type": "display_data",
          "data": {
            "text/html": [
              "<div>\n",
              "<style scoped>\n",
              "    .dataframe tbody tr th:only-of-type {\n",
              "        vertical-align: middle;\n",
              "    }\n",
              "\n",
              "    .dataframe tbody tr th {\n",
              "        vertical-align: top;\n",
              "    }\n",
              "\n",
              "    .dataframe thead th {\n",
              "        text-align: right;\n",
              "    }\n",
              "</style>\n",
              "<table border=\"1\" class=\"dataframe\">\n",
              "  <thead>\n",
              "    <tr style=\"text-align: right;\">\n",
              "      <th></th>\n",
              "      <th>price</th>\n",
              "      <th>minimum_nights</th>\n",
              "      <th>number_of_reviews</th>\n",
              "      <th>reviews_per_month</th>\n",
              "      <th>calculated_host_listings_count</th>\n",
              "      <th>availability_365</th>\n",
              "    </tr>\n",
              "  </thead>\n",
              "  <tbody>\n",
              "    <tr>\n",
              "      <th>price</th>\n",
              "      <td>1.000000</td>\n",
              "      <td>-0.063900</td>\n",
              "      <td>-0.040706</td>\n",
              "      <td>-0.134182</td>\n",
              "      <td>0.193071</td>\n",
              "      <td>0.037909</td>\n",
              "    </tr>\n",
              "    <tr>\n",
              "      <th>minimum_nights</th>\n",
              "      <td>-0.063900</td>\n",
              "      <td>1.000000</td>\n",
              "      <td>-0.074713</td>\n",
              "      <td>-0.117607</td>\n",
              "      <td>-0.074830</td>\n",
              "      <td>0.002454</td>\n",
              "    </tr>\n",
              "    <tr>\n",
              "      <th>number_of_reviews</th>\n",
              "      <td>-0.040706</td>\n",
              "      <td>-0.074713</td>\n",
              "      <td>1.000000</td>\n",
              "      <td>0.742307</td>\n",
              "      <td>-0.104517</td>\n",
              "      <td>0.019144</td>\n",
              "    </tr>\n",
              "    <tr>\n",
              "      <th>reviews_per_month</th>\n",
              "      <td>-0.134182</td>\n",
              "      <td>-0.117607</td>\n",
              "      <td>0.742307</td>\n",
              "      <td>1.000000</td>\n",
              "      <td>-0.149150</td>\n",
              "      <td>-0.017268</td>\n",
              "    </tr>\n",
              "    <tr>\n",
              "      <th>calculated_host_listings_count</th>\n",
              "      <td>0.193071</td>\n",
              "      <td>-0.074830</td>\n",
              "      <td>-0.104517</td>\n",
              "      <td>-0.149150</td>\n",
              "      <td>1.000000</td>\n",
              "      <td>0.028307</td>\n",
              "    </tr>\n",
              "    <tr>\n",
              "      <th>availability_365</th>\n",
              "      <td>0.037909</td>\n",
              "      <td>0.002454</td>\n",
              "      <td>0.019144</td>\n",
              "      <td>-0.017268</td>\n",
              "      <td>0.028307</td>\n",
              "      <td>1.000000</td>\n",
              "    </tr>\n",
              "  </tbody>\n",
              "</table>\n",
              "</div>"
            ],
            "text/plain": [
              "                                   price  ...  availability_365\n",
              "price                           1.000000  ...          0.037909\n",
              "minimum_nights                 -0.063900  ...          0.002454\n",
              "number_of_reviews              -0.040706  ...          0.019144\n",
              "reviews_per_month              -0.134182  ...         -0.017268\n",
              "calculated_host_listings_count  0.193071  ...          0.028307\n",
              "availability_365                0.037909  ...          1.000000\n",
              "\n",
              "[6 rows x 6 columns]"
            ]
          },
          "metadata": {
            "tags": []
          }
        }
      ]
    },
    {
      "cell_type": "code",
      "metadata": {
        "id": "91UujDr6ueqE",
        "colab_type": "code",
        "colab": {
          "base_uri": "https://localhost:8080/",
          "height": 411
        },
        "outputId": "a5e079bd-3e33-40f3-d611-57090cc8562b"
      },
      "source": [
        "# plotar um heatmap a partir das correlações\n",
        "sns.heatmap(corr, cmap='RdBu', fmt='.2f', square=True, linecolor='white', annot=True);\n"
      ],
      "execution_count": 20,
      "outputs": [
        {
          "output_type": "display_data",
          "data": {
            "image/png": "[encoded data removed]",
            "text/plain": [
              "<Figure size 432x288 with 2 Axes>"
            ]
          },
          "metadata": {
            "tags": [],
            "needs_background": "light"
          }
        }
      ]
    },
    {
      "cell_type": "markdown",
      "metadata": {
        "id": "7b6RMWpuHKN-",
        "colab_type": "text"
      },
      "source": [
        "### **Q5. Qual o tipo de imóvel mais alugado no Airbnb?**\n",
        "\n",
        "Vamos avaliar quais os tipos de acomodação são disponibilizadas em maior quantidade, sejam elas apartamentos inteiros, quartos avulsos ou compartilhados, casas entre outras."
      ]
    },
    {
      "cell_type": "code",
      "metadata": {
        "id": "ueLPNWvPHgfB",
        "colab_type": "code",
        "colab": {
          "base_uri": "https://localhost:8080/",
          "height": 109
        },
        "outputId": "1c54c618-fd4b-4b8d-b829-8d5a100a1388"
      },
      "source": [
        "# mostrar a quantidade de cada tipo de imóvel disponível\n",
        "df_clean.room_type.value_counts()"
      ],
      "execution_count": 21,
      "outputs": [
        {
          "output_type": "execute_result",
          "data": {
            "text/plain": [
              "Entire home/apt    4662\n",
              "Private room       2387\n",
              "Hotel room           42\n",
              "Shared room          34\n",
              "Name: room_type, dtype: int64"
            ]
          },
          "metadata": {
            "tags": []
          },
          "execution_count": 21
        }
      ]
    },
    {
      "cell_type": "code",
      "metadata": {
        "id": "EvwoO-XAHhIm",
        "colab_type": "code",
        "colab": {
          "base_uri": "https://localhost:8080/",
          "height": 109
        },
        "outputId": "146224f0-223c-4558-ff5d-4480e823b9e9"
      },
      "source": [
        "# mostrar a porcentagem de cada tipo de imóvel disponível\n",
        "df_clean.room_type.value_counts() / df_clean.shape[0]"
      ],
      "execution_count": 22,
      "outputs": [
        {
          "output_type": "execute_result",
          "data": {
            "text/plain": [
              "Entire home/apt    0.654316\n",
              "Private room       0.335018\n",
              "Hotel room         0.005895\n",
              "Shared room        0.004772\n",
              "Name: room_type, dtype: float64"
            ]
          },
          "metadata": {
            "tags": []
          },
          "execution_count": 22
        }
      ]
    },
    {
      "cell_type": "markdown",
      "metadata": {
        "id": "MFa5NbnLJMcd",
        "colab_type": "text"
      },
      "source": [
        "### **Q6. Qual a localidade mais cara de Valência-ESP?**\n",
        "\n",
        "Uma maneira de se verificar uma variável em função da outra é usando `groupby()`. No caso, queremos comparar os bairros a partir do preço de locação.\n"
      ]
    },
    {
      "cell_type": "code",
      "metadata": {
        "id": "MD_xa143JZpi",
        "colab_type": "code",
        "colab": {
          "base_uri": "https://localhost:8080/",
          "height": 237
        },
        "outputId": "ae4f2d8b-de39-425d-b896-8ce4e21cd4a9"
      },
      "source": [
        "# ver preços por bairros, na média\n",
        "df_clean.groupby(['neighbourhood']).price.mean().sort_values(ascending=False) [:10]"
      ],
      "execution_count": 23,
      "outputs": [
        {
          "output_type": "execute_result",
          "data": {
            "text/plain": [
              "neighbourhood\n",
              "MAHUELLA-TAULADELLA    122.000000\n",
              "BORBOTO                109.000000\n",
              "CARPESA                103.000000\n",
              "EL PERELLONET           92.349206\n",
              "EL SALER                85.764706\n",
              "PENYA-ROJA              83.411215\n",
              "RAFALELL-VISTABELLA     79.750000\n",
              "EL PLA DEL REMEI        75.884615\n",
              "LA XEREA                75.383333\n",
              "EL PALMAR               74.800000\n",
              "Name: price, dtype: float64"
            ]
          },
          "metadata": {
            "tags": []
          },
          "execution_count": 23
        }
      ]
    },
    {
      "cell_type": "code",
      "metadata": {
        "id": "c9IrmiXUhfCJ",
        "colab_type": "code",
        "colab": {
          "base_uri": "https://localhost:8080/",
          "height": 237
        },
        "outputId": "53ed85ee-e283-4292-829d-c1106d0577be"
      },
      "source": [
        "# ver preços por região, na média\n",
        "df_clean.groupby(['neighbourhood_group']).price.mean().sort_values(ascending=False) [:10]"
      ],
      "execution_count": 24,
      "outputs": [
        {
          "output_type": "execute_result",
          "data": {
            "text/plain": [
              "neighbourhood_group\n",
              "POBLATS DEL SUD      80.101911\n",
              "CIUTAT VELLA         69.916318\n",
              "POBLATS MARITIMS     69.525932\n",
              "L'EIXAMPLE           66.216763\n",
              "EXTRAMURS            59.379487\n",
              "CAMPANAR             59.000000\n",
              "CAMINS AL GRAU       56.943860\n",
              "EL PLA DEL REAL      54.283582\n",
              "POBLATS DE L'OEST    52.652174\n",
              "POBLATS DEL NORD     52.111111\n",
              "Name: price, dtype: float64"
            ]
          },
          "metadata": {
            "tags": []
          },
          "execution_count": 24
        }
      ]
    },
    {
      "cell_type": "code",
      "metadata": {
        "id": "UxVJqJ_3W59I",
        "colab_type": "code",
        "colab": {
          "base_uri": "https://localhost:8080/",
          "height": 469
        },
        "outputId": "8c4e9f08-f52f-4674-a28c-fb5492de6d07"
      },
      "source": [
        "# plotar os imóveis pela latitude-longitude\n",
        "df_clean.plot(kind=\"scatter\", x='longitude', y='latitude', alpha=0.4, c=df_clean['price'], s=8, cmap=plt.get_cmap('jet'), figsize=(12,8));"
      ],
      "execution_count": 25,
      "outputs": [
        {
          "output_type": "display_data",
          "data": {
            "image/png": "[encoded data removed]",
            "text/plain": [
              "<Figure size 864x576 with 2 Axes>"
            ]
          },
          "metadata": {
            "tags": [],
            "needs_background": "light"
          }
        }
      ]
    },
    {
      "cell_type": "markdown",
      "metadata": {
        "id": "vTneAMRUYvr1",
        "colab_type": "text"
      },
      "source": [
        "### **Q7. Qual é a média do mínimo de noites para aluguel (minimum_nights)?**\n",
        "\n",
        "Depois de fazer a remoção dos valores > 30 dias de estadia mínima, a média do mínimo de noites para se alugar uma acomodação em **Valência-ESP** é de 3 noites."
      ]
    },
    {
      "cell_type": "code",
      "metadata": {
        "id": "_VzNhrEgY82N",
        "colab_type": "code",
        "colab": {
          "base_uri": "https://localhost:8080/",
          "height": 300
        },
        "outputId": "a0b84540-a700-4e7c-c424-b35442043f78"
      },
      "source": [
        "# ver a média da coluna `minimum_nights`\n",
        "df_clean[['minimum_nights']].describe()"
      ],
      "execution_count": 26,
      "outputs": [
        {
          "output_type": "execute_result",
          "data": {
            "text/html": [
              "<div>\n",
              "<style scoped>\n",
              "    .dataframe tbody tr th:only-of-type {\n",
              "        vertical-align: middle;\n",
              "    }\n",
              "\n",
              "    .dataframe tbody tr th {\n",
              "        vertical-align: top;\n",
              "    }\n",
              "\n",
              "    .dataframe thead th {\n",
              "        text-align: right;\n",
              "    }\n",
              "</style>\n",
              "<table border=\"1\" class=\"dataframe\">\n",
              "  <thead>\n",
              "    <tr style=\"text-align: right;\">\n",
              "      <th></th>\n",
              "      <th>minimum_nights</th>\n",
              "    </tr>\n",
              "  </thead>\n",
              "  <tbody>\n",
              "    <tr>\n",
              "      <th>count</th>\n",
              "      <td>7125.000000</td>\n",
              "    </tr>\n",
              "    <tr>\n",
              "      <th>mean</th>\n",
              "      <td>3.174737</td>\n",
              "    </tr>\n",
              "    <tr>\n",
              "      <th>std</th>\n",
              "      <td>4.592176</td>\n",
              "    </tr>\n",
              "    <tr>\n",
              "      <th>min</th>\n",
              "      <td>1.000000</td>\n",
              "    </tr>\n",
              "    <tr>\n",
              "      <th>25%</th>\n",
              "      <td>1.000000</td>\n",
              "    </tr>\n",
              "    <tr>\n",
              "      <th>50%</th>\n",
              "      <td>2.000000</td>\n",
              "    </tr>\n",
              "    <tr>\n",
              "      <th>75%</th>\n",
              "      <td>3.000000</td>\n",
              "    </tr>\n",
              "    <tr>\n",
              "      <th>max</th>\n",
              "      <td>30.000000</td>\n",
              "    </tr>\n",
              "  </tbody>\n",
              "</table>\n",
              "</div>"
            ],
            "text/plain": [
              "       minimum_nights\n",
              "count     7125.000000\n",
              "mean         3.174737\n",
              "std          4.592176\n",
              "min          1.000000\n",
              "25%          1.000000\n",
              "50%          2.000000\n",
              "75%          3.000000\n",
              "max         30.000000"
            ]
          },
          "metadata": {
            "tags": []
          },
          "execution_count": 26
        }
      ]
    },
    {
      "cell_type": "markdown",
      "metadata": {
        "id": "GkvAg623RjoR",
        "colab_type": "text"
      },
      "source": [
        "## Conclusões\n",
        "\n",
        "Foi feita uma análise rápida sobre os dados de acomodação na cidade de **Valência-ESP**, disponibilizadas pelo [Airbnb](https://www.airbnb.com.br/). Esses dados foram extraídos do portal [Inside Airbnb](https://insideairbnb.com/get-the-data.html).\n",
        "\n",
        "Na etapa inicial da análise dos dados, verificou-se que haviam *inputs* que comprometiam a qualidade da avaliação, causando distorções que não refletiam a realidade da informação.\n",
        "Diante dessa constatação, foi feita a remoção dos *outliers*.\n",
        "\n",
        "Como informação adicional, essa análise foi efetuada com um arquivo contendo apenas algumas informações disponibilizadas por se tratar de uma análise primária. Futuramente será disponibilizada uma análise mais aprofundada, com adições de outros atributos."
      ]
    },
    {
      "cell_type": "markdown",
      "metadata": {
        "id": "rbZ3Hsy9Ypw8",
        "colab_type": "text"
      },
      "source": [
        ""
      ]
    }
  ]
}